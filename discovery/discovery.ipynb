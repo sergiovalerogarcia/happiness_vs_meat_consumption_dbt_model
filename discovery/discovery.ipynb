{
 "cells": [
  {
   "cell_type": "code",
   "execution_count": 1,
   "id": "9d718088-9f6d-4060-b1cd-1f5d5d6850ff",
   "metadata": {},
   "outputs": [],
   "source": [
    "import pandas as pd\n",
    "import numpy as np\n",
    "import matplotlib.pyplot as plt"
   ]
  },
  {
   "cell_type": "code",
   "execution_count": 2,
   "id": "bbf2ac70-1b2c-438f-b20a-1e1bc141bc99",
   "metadata": {},
   "outputs": [
    {
     "name": "stdout",
     "output_type": "stream",
     "text": [
      "meat_consumption_worldwide.csv\n"
     ]
    }
   ],
   "source": [
    "!ls /home/jovyan/work/data/worldwide_meat_consumption_dataset/"
   ]
  },
  {
   "cell_type": "code",
   "execution_count": 3,
   "id": "06f5428f-8466-4ddc-bc42-bfdc0f648355",
   "metadata": {},
   "outputs": [],
   "source": [
    "path='/home/jovyan/work/data/worldwide_meat_consumption_dataset/'\n",
    "file='meat_consumption_worldwide.csv'\n",
    "dataset = pd.read_csv(path + file)"
   ]
  },
  {
   "cell_type": "code",
   "execution_count": 4,
   "id": "37d526df-d58a-4b96-9ad1-46f0d7cafe8b",
   "metadata": {},
   "outputs": [
    {
     "data": {
      "text/html": [
       "<div>\n",
       "<style scoped>\n",
       "    .dataframe tbody tr th:only-of-type {\n",
       "        vertical-align: middle;\n",
       "    }\n",
       "\n",
       "    .dataframe tbody tr th {\n",
       "        vertical-align: top;\n",
       "    }\n",
       "\n",
       "    .dataframe thead th {\n",
       "        text-align: right;\n",
       "    }\n",
       "</style>\n",
       "<table border=\"1\" class=\"dataframe\">\n",
       "  <thead>\n",
       "    <tr style=\"text-align: right;\">\n",
       "      <th></th>\n",
       "      <th>LOCATION</th>\n",
       "      <th>SUBJECT</th>\n",
       "      <th>MEASURE</th>\n",
       "      <th>TIME</th>\n",
       "      <th>Value</th>\n",
       "    </tr>\n",
       "  </thead>\n",
       "  <tbody>\n",
       "    <tr>\n",
       "      <th>0</th>\n",
       "      <td>AUS</td>\n",
       "      <td>BEEF</td>\n",
       "      <td>KG_CAP</td>\n",
       "      <td>1991</td>\n",
       "      <td>27.721815</td>\n",
       "    </tr>\n",
       "    <tr>\n",
       "      <th>1</th>\n",
       "      <td>AUS</td>\n",
       "      <td>BEEF</td>\n",
       "      <td>KG_CAP</td>\n",
       "      <td>1992</td>\n",
       "      <td>26.199591</td>\n",
       "    </tr>\n",
       "    <tr>\n",
       "      <th>2</th>\n",
       "      <td>AUS</td>\n",
       "      <td>BEEF</td>\n",
       "      <td>KG_CAP</td>\n",
       "      <td>1993</td>\n",
       "      <td>26.169094</td>\n",
       "    </tr>\n",
       "    <tr>\n",
       "      <th>3</th>\n",
       "      <td>AUS</td>\n",
       "      <td>BEEF</td>\n",
       "      <td>KG_CAP</td>\n",
       "      <td>1994</td>\n",
       "      <td>25.456134</td>\n",
       "    </tr>\n",
       "    <tr>\n",
       "      <th>4</th>\n",
       "      <td>AUS</td>\n",
       "      <td>BEEF</td>\n",
       "      <td>KG_CAP</td>\n",
       "      <td>1995</td>\n",
       "      <td>25.340226</td>\n",
       "    </tr>\n",
       "  </tbody>\n",
       "</table>\n",
       "</div>"
      ],
      "text/plain": [
       "  LOCATION SUBJECT MEASURE  TIME      Value\n",
       "0      AUS    BEEF  KG_CAP  1991  27.721815\n",
       "1      AUS    BEEF  KG_CAP  1992  26.199591\n",
       "2      AUS    BEEF  KG_CAP  1993  26.169094\n",
       "3      AUS    BEEF  KG_CAP  1994  25.456134\n",
       "4      AUS    BEEF  KG_CAP  1995  25.340226"
      ]
     },
     "execution_count": 4,
     "metadata": {},
     "output_type": "execute_result"
    }
   ],
   "source": [
    "dataset.head()"
   ]
  }
 ],
 "metadata": {
  "kernelspec": {
   "display_name": "Python 3 (ipykernel)",
   "language": "python",
   "name": "python3"
  },
  "language_info": {
   "codemirror_mode": {
    "name": "ipython",
    "version": 3
   },
   "file_extension": ".py",
   "mimetype": "text/x-python",
   "name": "python",
   "nbconvert_exporter": "python",
   "pygments_lexer": "ipython3",
   "version": "3.9.7"
  }
 },
 "nbformat": 4,
 "nbformat_minor": 5
}
